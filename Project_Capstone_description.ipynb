{
 "cells": [
  {
   "cell_type": "markdown",
   "metadata": {},
   "source": [
    "# Capstone Project - Location Profiling in Crime Analysis"
   ]
  },
  {
   "cell_type": "markdown",
   "metadata": {},
   "source": [
    "by Jianxu Shi   \n",
    "Data Scientist in Training"
   ]
  },
  {
   "cell_type": "markdown",
   "metadata": {},
   "source": [
    "In 2001, U.S. Department of Justice published a document *Introductory Guide to Crime Analysis and Mapping*. In this guide, Dr. Rachel Boba defined *Crime Analysis* as \"the qualitative and quantitative study of crime and law enforcement information in combination with socio-demographic and **spatial** factors to apprehend criminals, prevent crime, reduce disorder, and evaluate organizational procedures.\" The information such as date, time, location, and type of crime is quantitative in that statistics can be used to analyze these variables. On the other hand, narratives of crime reports are considered qualitative data. The author pointed out that **spatial** information is an important factor in the analysis of crime. It is not only important where a crime takes place but also the characteristics of those places and the environment in which the crime occurs. Thus, examination of spatial data such as streets networks, parcel information, school locations, business and residential zoning, among others, is imperative for effective crime analysis. "
   ]
  },
  {
   "cell_type": "markdown",
   "metadata": {},
   "source": [
    "Considering the importance of crime analysis to law enforcement and society in general, we will perform quantitative analysis of crime data in this project. We will explore the idea of combining crime historical data with location data, now available through Foursquare API. Our goal is to understand the relationship between the characteristics of a location (and its environment) and the likelihood of occurrence of a crime. Here are examples of some of the questions we try to answer:\n",
    "1. Is there a relationship between the type of location and number of incidents?\n",
    "2. Does the presence of certain venues correlate with increase or decrease of incidents?\n",
    "3. What are the characteristics of a low incident area?\n",
    "4. What are the characteristics of a high incident area?"
   ]
  },
  {
   "cell_type": "markdown",
   "metadata": {},
   "source": [
    "We can call it *Location Profiling* as opposed to psychological or behavioral profiling. More study is required to fully answer these questions but we can get started and refine our approach later. Before discussing the approach, let's define the data requirement first. We need two types of information, one related to crimes and the other related to locations.   \n",
    "   \n",
    "**Crime Reports**: these are incident reports released by Sheriff's office or Police Department. We can find incident reports on-line. For example, Socrata has many such datasets down-loadable from [this link](https://moto.data.socrata.com). For this project in particular, we download a copy of \"King County Sheriff's Office incident dataset\" in csv format. The file has almost 17K rows and contains mostly recent incidents (2018-2019) in Seattle, Washington area.  \n",
    "   \n",
    "**Location Data**: we explore a location or an aggregation point such as a zip code, city, or neighborhood on Foursquare. We will extract information about the location and nearby venues. For simplicity, location profile of a zip code is represented by the number of venues and distribution of venue categories inside the zip code.  "
   ]
  },
  {
   "cell_type": "markdown",
   "metadata": {},
   "source": [
    "Our approach can be described in five steps:   \n",
    "1. Load the data of incident reports, clean any incomplete sections and group incidents and the total by the zip code.   \n",
    "2. Show the zip codes on folium map, color-coded with the total number of incidents in each zip code.   \n",
    "3. Explore each zip code in Foursquare and process the results into distribution of venue categories for each zip code.   \n",
    "4. Examine the venue distribution for zip codes with very low and very high incidents and note any difference.   \n",
    "5. Try different regression algorithms to predict total incidents based on the location profile. Split the incident data into a training set to train the model and a test set to evaluate the accuracy of the model."
   ]
  },
  {
   "cell_type": "markdown",
   "metadata": {},
   "source": [
    "Our target audiences for this project are law enforcement agencies and society in general. The result can help law enforcement agencies understand and prepare for incidents according to the location profile. General public can also draw insight from the location profile and plan development accordingly."
   ]
  },
  {
   "cell_type": "code",
   "execution_count": null,
   "metadata": {},
   "outputs": [],
   "source": []
  }
 ],
 "metadata": {
  "kernelspec": {
   "display_name": "Python",
   "language": "python",
   "name": "conda-env-python-py"
  },
  "language_info": {
   "codemirror_mode": {
    "name": "ipython",
    "version": 3
   },
   "file_extension": ".py",
   "mimetype": "text/x-python",
   "name": "python",
   "nbconvert_exporter": "python",
   "pygments_lexer": "ipython3",
   "version": "3.6.7"
  }
 },
 "nbformat": 4,
 "nbformat_minor": 4
}
